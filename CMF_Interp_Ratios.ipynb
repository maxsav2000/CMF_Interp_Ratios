{
 "cells": [
  {
   "cell_type": "code",
   "execution_count": 1,
   "id": "absent-proceeding",
   "metadata": {},
   "outputs": [],
   "source": [
    "import numpy as np\n",
    "import pandas as pd\n",
    "import matplotlib.pyplot as plt"
   ]
  },
  {
   "cell_type": "code",
   "execution_count": 5,
   "id": "informed-battery",
   "metadata": {},
   "outputs": [
    {
     "data": {
      "text/html": [
       "<div>\n",
       "<style scoped>\n",
       "    .dataframe tbody tr th:only-of-type {\n",
       "        vertical-align: middle;\n",
       "    }\n",
       "\n",
       "    .dataframe tbody tr th {\n",
       "        vertical-align: top;\n",
       "    }\n",
       "\n",
       "    .dataframe thead th {\n",
       "        text-align: right;\n",
       "    }\n",
       "</style>\n",
       "<table border=\"1\" class=\"dataframe\">\n",
       "  <thead>\n",
       "    <tr style=\"text-align: right;\">\n",
       "      <th></th>\n",
       "      <th>Fitch_grade</th>\n",
       "      <th>Fitch_observed_DR</th>\n",
       "      <th>Moodys_grade</th>\n",
       "      <th>Moodys_observed_DR</th>\n",
       "      <th>SnP_grade</th>\n",
       "      <th>SnP_observed_DR</th>\n",
       "    </tr>\n",
       "  </thead>\n",
       "  <tbody>\n",
       "    <tr>\n",
       "      <th>16</th>\n",
       "      <td>CCC+</td>\n",
       "      <td>0.2212</td>\n",
       "      <td>Caa1</td>\n",
       "      <td>0.0400</td>\n",
       "      <td>CCC+</td>\n",
       "      <td>0.2708</td>\n",
       "    </tr>\n",
       "    <tr>\n",
       "      <th>17</th>\n",
       "      <td>CCC</td>\n",
       "      <td>0.2212</td>\n",
       "      <td>Caa2</td>\n",
       "      <td>0.0817</td>\n",
       "      <td>CCC</td>\n",
       "      <td>0.2708</td>\n",
       "    </tr>\n",
       "    <tr>\n",
       "      <th>18</th>\n",
       "      <td>CCC-</td>\n",
       "      <td>0.2212</td>\n",
       "      <td>Caa3</td>\n",
       "      <td>0.1815</td>\n",
       "      <td>CCC-</td>\n",
       "      <td>0.2708</td>\n",
       "    </tr>\n",
       "    <tr>\n",
       "      <th>19</th>\n",
       "      <td>CC</td>\n",
       "      <td>0.2212</td>\n",
       "      <td>Ca</td>\n",
       "      <td>0.2813</td>\n",
       "      <td>CC</td>\n",
       "      <td>0.2708</td>\n",
       "    </tr>\n",
       "    <tr>\n",
       "      <th>20</th>\n",
       "      <td>C</td>\n",
       "      <td>0.2212</td>\n",
       "      <td>C</td>\n",
       "      <td>0.2813</td>\n",
       "      <td>NaN</td>\n",
       "      <td>NaN</td>\n",
       "    </tr>\n",
       "  </tbody>\n",
       "</table>\n",
       "</div>"
      ],
      "text/plain": [
       "   Fitch_grade  Fitch_observed_DR Moodys_grade  Moodys_observed_DR SnP_grade  \\\n",
       "16        CCC+             0.2212         Caa1              0.0400      CCC+   \n",
       "17         CCC             0.2212         Caa2              0.0817       CCC   \n",
       "18        CCC-             0.2212         Caa3              0.1815      CCC-   \n",
       "19          CC             0.2212           Ca              0.2813        CC   \n",
       "20           C             0.2212            C              0.2813       NaN   \n",
       "\n",
       "    SnP_observed_DR  \n",
       "16           0.2708  \n",
       "17           0.2708  \n",
       "18           0.2708  \n",
       "19           0.2708  \n",
       "20              NaN  "
      ]
     },
     "execution_count": 5,
     "metadata": {},
     "output_type": "execute_result"
    }
   ],
   "source": [
    "df = pd.read_excel('Credit_Ratings_development_CTF_v0.xlsx')\n",
    "df.tail()"
   ]
  },
  {
   "cell_type": "markdown",
   "id": "italic-freedom",
   "metadata": {},
   "source": [
    "# Fitch_observed_DR"
   ]
  },
  {
   "cell_type": "code",
   "execution_count": 10,
   "id": "thick-officer",
   "metadata": {},
   "outputs": [],
   "source": [
    "y = df['Fitch_observed_DR'].to_numpy()\n",
    "x = np.arange(len(y))\n"
   ]
  },
  {
   "cell_type": "code",
   "execution_count": 31,
   "id": "august-breach",
   "metadata": {},
   "outputs": [],
   "source": [
    "n = len(y)\n",
    "\n",
    "dd = 3\n",
    "I  = np.eye(n)\n",
    "D3 = np.diff(E, n = dd, axis=0)\n",
    "D1 = np.diff(E, n = 1, axis=0)\n",
    "la = 10\n",
    "kp = 5000\n",
    "\n",
    "# Monotone smoothing\n",
    "ws = np.zeros(N - 1)\n",
    "\n",
    "for it in range(dd*5):\n",
    "    Ws      = np.diag(ws * kp)\n",
    "    mon_cof = np.linalg.solve(E + la * D3.T @ D3 + D1.T @ Ws @ D1, y)\n",
    "z  = mon_cof"
   ]
  },
  {
   "cell_type": "code",
   "execution_count": 32,
   "id": "affecting-mailman",
   "metadata": {},
   "outputs": [
    {
     "data": {
      "image/png": "[encoded data removed]",
      "text/plain": [
       "<Figure size 432x288 with 1 Axes>"
      ]
     },
     "metadata": {
      "needs_background": "light"
     },
     "output_type": "display_data"
    }
   ],
   "source": [
    "# Plots\n",
    "plt.figure()\n",
    "plt.plot(x, y, color = 'k', label = 'data')\n",
    "plt.plot(x, z, color = 'red', label = 'smooth')\n",
    "plt.legend(loc=\"lower right\")\n",
    "plt.title('Fitch_observed_DR')\n",
    "plt.show()"
   ]
  }
 ],
 "metadata": {
  "kernelspec": {
   "display_name": "Python 3",
   "language": "python",
   "name": "python3"
  },
  "language_info": {
   "codemirror_mode": {
    "name": "ipython",
    "version": 3
   },
   "file_extension": ".py",
   "mimetype": "text/x-python",
   "name": "python",
   "nbconvert_exporter": "python",
   "pygments_lexer": "ipython3",
   "version": "3.7.10"
  }
 },
 "nbformat": 4,
 "nbformat_minor": 5
}
